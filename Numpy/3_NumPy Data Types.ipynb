{
 "cells": [
  {
   "cell_type": "markdown",
   "id": "ee93deab",
   "metadata": {},
   "source": [
    "# NumPy Data Types"
   ]
  },
  {
   "cell_type": "markdown",
   "id": "d4de275e",
   "metadata": {},
   "source": [
    "1. Create a NumPy array called arr1 with the following values: [1, 2, 3, 4, 5]. Specify the data type as int32."
   ]
  },
  {
   "cell_type": "code",
   "execution_count": 12,
   "id": "0e8aa4c4",
   "metadata": {},
   "outputs": [],
   "source": [
    "import numpy as np"
   ]
  },
  {
   "cell_type": "code",
   "execution_count": 13,
   "id": "e0c41a3b",
   "metadata": {},
   "outputs": [
    {
     "data": {
      "text/plain": [
       "array([1, 2, 3, 4, 5], dtype=int32)"
      ]
     },
     "execution_count": 13,
     "metadata": {},
     "output_type": "execute_result"
    }
   ],
   "source": [
    "arr1=np.array([1,2,3,4,5],dtype=np.int32)\n",
    "arr1"
   ]
  },
  {
   "cell_type": "markdown",
   "id": "43cfd898",
   "metadata": {},
   "source": [
    "2. Create another NumPy array called arr2 with the following values: [1.5, 2.5, 3.5, 4.5, 5.5]. Let NumPy infer the data type automatically."
   ]
  },
  {
   "cell_type": "code",
   "execution_count": 14,
   "id": "d5a16a07",
   "metadata": {},
   "outputs": [
    {
     "data": {
      "text/plain": [
       "array([1.5, 2.5, 3.5, 4.5, 5.5])"
      ]
     },
     "execution_count": 14,
     "metadata": {},
     "output_type": "execute_result"
    }
   ],
   "source": [
    "arr2=np.array([1.5,2.5,3.5,4.5,5.5])\n",
    "arr2"
   ]
  },
  {
   "cell_type": "markdown",
   "id": "66b370e4",
   "metadata": {},
   "source": [
    "3. Perform element-wise addition between arr1 and arr2 and store the result in a new array called result. Print the data type of result."
   ]
  },
  {
   "cell_type": "code",
   "execution_count": 15,
   "id": "796fb714",
   "metadata": {},
   "outputs": [
    {
     "data": {
      "text/plain": [
       "dtype('float64')"
      ]
     },
     "execution_count": 15,
     "metadata": {},
     "output_type": "execute_result"
    }
   ],
   "source": [
    "result=arr1+arr2\n",
    "result\n",
    "result.dtype"
   ]
  },
  {
   "cell_type": "markdown",
   "id": "33f922cd",
   "metadata": {},
   "source": [
    "4. Create a structured array called student with the following fields: \"name\" (string of length 10), \"age\" (integer), and \"grade\" (float). Initialize the array with the following values:\n",
    "- (\"John\", 18, 85.5)\n",
    "- (\"Alice\", 20, 92.0)\n",
    "- (\"Bob\", 19, 88.7)"
   ]
  },
  {
   "cell_type": "code",
   "execution_count": 16,
   "id": "c9af8ac8",
   "metadata": {},
   "outputs": [
    {
     "data": {
      "text/plain": [
       "np.void(('John', 18, 85.5), dtype=[('Name', '<U10'), ('Age', 'u1'), ('Grade', '<f4')])"
      ]
     },
     "execution_count": 16,
     "metadata": {},
     "output_type": "execute_result"
    }
   ],
   "source": [
    "datatype=[('Name','U10'),('Age','u1'),('Grade','f4')]\n",
    "arr=np.array([(\"John\", 18, 85.5),(\"Alice\", 20, 92.0),(\"Bob\", 19, 88.7)],dtype=datatype)\n",
    "arr\n",
    "arr[0]"
   ]
  },
  {
   "cell_type": "markdown",
   "id": "deb343f3",
   "metadata": {},
   "source": [
    "5. Access and print the \"name\" field of the student array."
   ]
  },
  {
   "cell_type": "code",
   "execution_count": 17,
   "id": "3f7e5850",
   "metadata": {},
   "outputs": [
    {
     "data": {
      "text/plain": [
       "array(['John', 'Alice', 'Bob'], dtype='<U10')"
      ]
     },
     "execution_count": 17,
     "metadata": {},
     "output_type": "execute_result"
    }
   ],
   "source": [
    "arr[\"Name\"]"
   ]
  },
  {
   "cell_type": "markdown",
   "id": "4aa34e5c",
   "metadata": {},
   "source": [
    "6. Convert the grade field of the student array to an integer data type using explicit type casting."
   ]
  },
  {
   "cell_type": "code",
   "execution_count": 18,
   "id": "6794c882",
   "metadata": {},
   "outputs": [
    {
     "data": {
      "text/plain": [
       "array([85, 92, 88])"
      ]
     },
     "execution_count": 18,
     "metadata": {},
     "output_type": "execute_result"
    }
   ],
   "source": [
    "arr['Grade'].astype(int)"
   ]
  },
  {
   "cell_type": "markdown",
   "id": "21993233",
   "metadata": {},
   "source": [
    "7. Create a boolean array called mask that checks whether each element in arr1 is greater than 3."
   ]
  },
  {
   "cell_type": "code",
   "execution_count": 19,
   "id": "57b3c902",
   "metadata": {},
   "outputs": [
    {
     "data": {
      "text/plain": [
       "array([False, False, False,  True,  True])"
      ]
     },
     "execution_count": 19,
     "metadata": {},
     "output_type": "execute_result"
    }
   ],
   "source": [
    "mask=arr1>3\n",
    "mask"
   ]
  },
  {
   "cell_type": "markdown",
   "id": "95736b9a",
   "metadata": {},
   "source": [
    "8. Use boolean indexing to extract the elements from arr1 that correspond to the True values in mask."
   ]
  },
  {
   "cell_type": "code",
   "execution_count": 20,
   "id": "497a9065",
   "metadata": {},
   "outputs": [
    {
     "data": {
      "text/plain": [
       "array([4, 5], dtype=int32)"
      ]
     },
     "execution_count": 20,
     "metadata": {},
     "output_type": "execute_result"
    }
   ],
   "source": [
    "arr1[mask]"
   ]
  },
  {
   "cell_type": "markdown",
   "id": "f2a2c31a",
   "metadata": {},
   "source": [
    "9. Calculate the memory consumed by arr1 and arr2 in bytes."
   ]
  },
  {
   "cell_type": "code",
   "execution_count": 21,
   "id": "0a78d1b7",
   "metadata": {},
   "outputs": [
    {
     "data": {
      "text/plain": [
       "20"
      ]
     },
     "execution_count": 21,
     "metadata": {},
     "output_type": "execute_result"
    }
   ],
   "source": [
    "arr1.nbytes"
   ]
  },
  {
   "cell_type": "code",
   "execution_count": 22,
   "id": "f5d6fc62",
   "metadata": {},
   "outputs": [
    {
     "data": {
      "text/plain": [
       "40"
      ]
     },
     "execution_count": 22,
     "metadata": {},
     "output_type": "execute_result"
    }
   ],
   "source": [
    "arr2.nbytes"
   ]
  },
  {
   "cell_type": "markdown",
   "id": "4efab559",
   "metadata": {},
   "source": [
    "10. Create a new array called arr3 with the same shape as arr1 but with a float32 data type. Initialize it with zeros."
   ]
  },
  {
   "cell_type": "code",
   "execution_count": 23,
   "id": "dada9fb4",
   "metadata": {},
   "outputs": [
    {
     "data": {
      "text/plain": [
       "array([0., 0., 0., 0., 0.], dtype=float32)"
      ]
     },
     "execution_count": 23,
     "metadata": {},
     "output_type": "execute_result"
    }
   ],
   "source": [
    "arr3=np.zeros_like(arr1,dtype=np.float32)\n",
    "arr3"
   ]
  }
 ],
 "metadata": {
  "kernelspec": {
   "display_name": "Python 3",
   "language": "python",
   "name": "python3"
  },
  "language_info": {
   "codemirror_mode": {
    "name": "ipython",
    "version": 3
   },
   "file_extension": ".py",
   "mimetype": "text/x-python",
   "name": "python",
   "nbconvert_exporter": "python",
   "pygments_lexer": "ipython3",
   "version": "3.13.1"
  }
 },
 "nbformat": 4,
 "nbformat_minor": 5
}
