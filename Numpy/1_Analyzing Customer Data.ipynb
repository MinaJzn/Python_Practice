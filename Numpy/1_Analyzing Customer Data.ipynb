{
 "cells": [
  {
   "cell_type": "markdown",
   "id": "534c10c0",
   "metadata": {},
   "source": [
    "# Analyzing Customer Data\n",
    "You are working with customer data for an e-commerce company. The data includes customer IDs, ages, and purchase amounts. Your task is to create NumPy arrays to store and analyze this data."
   ]
  },
  {
   "cell_type": "markdown",
   "id": "190b558e",
   "metadata": {},
   "source": [
    "1. Create a 1-dimensional NumPy array called customer_ids that contains the following customer IDs: 1001, 1002, 1003, 1004, 1005."
   ]
  },
  {
   "cell_type": "code",
   "execution_count": 35,
   "id": "90e5355d",
   "metadata": {},
   "outputs": [],
   "source": [
    "import numpy as np"
   ]
  },
  {
   "cell_type": "code",
   "execution_count": 36,
   "id": "66325fce",
   "metadata": {},
   "outputs": [
    {
     "data": {
      "text/plain": [
       "array([1001, 1002, 1003, 1004, 1005])"
      ]
     },
     "execution_count": 36,
     "metadata": {},
     "output_type": "execute_result"
    }
   ],
   "source": [
    "customer_id=np.array([1001,1002,1003,1004,1005])\n",
    "customer_id"
   ]
  },
  {
   "cell_type": "markdown",
   "id": "63b475a0",
   "metadata": {},
   "source": [
    "2. Create a 1-dimensional NumPy array called ages that contains the ages of the customers: 25, 30, 35, 40, 45. Use the np.arange() function to create this array."
   ]
  },
  {
   "cell_type": "code",
   "execution_count": 37,
   "id": "dfd51a79",
   "metadata": {},
   "outputs": [
    {
     "data": {
      "text/plain": [
       "array([25, 30, 35, 40, 45])"
      ]
     },
     "execution_count": 37,
     "metadata": {},
     "output_type": "execute_result"
    }
   ],
   "source": [
    "age_customers=np.arange(25,50,5)\n",
    "age_customers"
   ]
  },
  {
   "cell_type": "markdown",
   "id": "46c61b3f",
   "metadata": {},
   "source": [
    "3. Create a 2-dimensional NumPy array called purchase_amounts that contains the purchase amounts for each customer over three months:\n",
    "\n",
    "- Month 1: 100, 200, 300, 400, 500\n",
    "- Month 2: 150, 250, 350, 450, 550\n",
    "- Month 3: 200, 300, 400, 500, 600"
   ]
  },
  {
   "cell_type": "code",
   "execution_count": 38,
   "id": "e33bb1c6",
   "metadata": {},
   "outputs": [
    {
     "data": {
      "text/plain": [
       "array([[100, 200, 300, 400, 500],\n",
       "       [150, 250, 350, 450, 550],\n",
       "       [200, 300, 400, 500, 600]])"
      ]
     },
     "execution_count": 38,
     "metadata": {},
     "output_type": "execute_result"
    }
   ],
   "source": [
    "month1=np.arange(100,600,100)\n",
    "month2=np.arange(150,551,100)\n",
    "month3=np.arange(200,700,100)\n",
    "purchase_amounts=np.array([month1,month2,month3])\n",
    "purchase_amounts"
   ]
  },
  {
   "cell_type": "markdown",
   "id": "df60eecb",
   "metadata": {},
   "source": [
    "4. Create a 3-dimensional NumPy array called sales_data that combines the customer IDs, ages, and purchase amounts. The shape of the array should be (4, 5, 2), where:\n",
    "\n",
    "- The first dimension represents the customers\n",
    "- The second dimension represents the months\n",
    "- The third dimension represents the customer ID and age for each customer"
   ]
  },
  {
   "cell_type": "code",
   "execution_count": 39,
   "id": "0a427b72",
   "metadata": {},
   "outputs": [
    {
     "data": {
      "text/plain": [
       "array([[[1001,   25],\n",
       "        [1002,   30],\n",
       "        [1003,   35],\n",
       "        [1004,   40],\n",
       "        [1005,   45]],\n",
       "\n",
       "       [[1001,  100],\n",
       "        [1002,  200],\n",
       "        [1003,  300],\n",
       "        [1004,  400],\n",
       "        [1005,  500]],\n",
       "\n",
       "       [[1001,  150],\n",
       "        [1002,  250],\n",
       "        [1003,  350],\n",
       "        [1004,  450],\n",
       "        [1005,  550]],\n",
       "\n",
       "       [[1001,  200],\n",
       "        [1002,  300],\n",
       "        [1003,  400],\n",
       "        [1004,  500],\n",
       "        [1005,  600]]])"
      ]
     },
     "execution_count": 39,
     "metadata": {},
     "output_type": "execute_result"
    }
   ],
   "source": [
    "sales_data=np.array([\n",
    "                     [[customer_id[i],age_customers[i]] for i in range(5)],\n",
    "                     [[customer_id[i],purchase_amounts[0][i]] for i in range(5)],\n",
    "                     [[customer_id[i],purchase_amounts[1][i]] for i in range(5)],\n",
    "                     [[customer_id[i],purchase_amounts[2][i]] for i in range(5)]\n",
    "                     ])\n",
    "sales_data"
   ]
  },
  {
   "cell_type": "markdown",
   "id": "0f574904",
   "metadata": {},
   "source": [
    "5. Create a NumPy array called large_purchases that contains the purchase amounts greater than 300. Use boolean indexing to create this array."
   ]
  },
  {
   "cell_type": "code",
   "execution_count": 40,
   "id": "51d209b7",
   "metadata": {},
   "outputs": [
    {
     "data": {
      "text/plain": [
       "array([400, 500, 350, 450, 550, 400, 500, 600])"
      ]
     },
     "execution_count": 40,
     "metadata": {},
     "output_type": "execute_result"
    }
   ],
   "source": [
    "mask=purchase_amounts>300\n",
    "purchase_amounts[mask]"
   ]
  },
  {
   "cell_type": "markdown",
   "id": "76d2a1ea",
   "metadata": {},
   "source": [
    "6. Create a random integer array called random_purchases with shape (3, 5) that represents random purchase amounts between 100 and 1000."
   ]
  },
  {
   "cell_type": "code",
   "execution_count": 41,
   "id": "a2bd1394",
   "metadata": {},
   "outputs": [
    {
     "data": {
      "text/plain": [
       "array([[710, 513, 215, 623, 495],\n",
       "       [906, 493, 432, 105, 180],\n",
       "       [452, 313, 891, 674, 198]], dtype=int32)"
      ]
     },
     "execution_count": 41,
     "metadata": {},
     "output_type": "execute_result"
    }
   ],
   "source": [
    "random_purchases=np.random.randint(100,1000,size=(3,5))\n",
    "random_purchases"
   ]
  }
 ],
 "metadata": {
  "kernelspec": {
   "display_name": "Python 3",
   "language": "python",
   "name": "python3"
  },
  "language_info": {
   "codemirror_mode": {
    "name": "ipython",
    "version": 3
   },
   "file_extension": ".py",
   "mimetype": "text/x-python",
   "name": "python",
   "nbconvert_exporter": "python",
   "pygments_lexer": "ipython3",
   "version": "3.13.1"
  }
 },
 "nbformat": 4,
 "nbformat_minor": 5
}
