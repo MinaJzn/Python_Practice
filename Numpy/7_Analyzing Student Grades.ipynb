{
 "cells": [
  {
   "cell_type": "markdown",
   "id": "96b0c276",
   "metadata": {},
   "source": [
    "# Analyzing Student Grades:\n",
    "You are given a NumPy array grades that contains the grades of a group of students in a course."
   ]
  },
  {
   "cell_type": "code",
   "execution_count": 1,
   "id": "6e8ca459",
   "metadata": {},
   "outputs": [],
   "source": [
    "import numpy as np\n",
    "\n",
    "grades = np.array([85, 72, 90, 68, 77, 82, 92, 60, 55, 75, 88, 80, 95, 78, 65])\n"
   ]
  },
  {
   "cell_type": "markdown",
   "id": "39418ac7",
   "metadata": {},
   "source": [
    "1. Sort the grades in ascending order.\n",
    "Find the top 5 grades using array slicing."
   ]
  },
  {
   "cell_type": "code",
   "execution_count": 2,
   "id": "43c85373",
   "metadata": {},
   "outputs": [
    {
     "name": "stdout",
     "output_type": "stream",
     "text": [
      "Sort the grades : [55 60 65 68 72 75 77 78 80 82 85 88 90 92 95]\n"
     ]
    }
   ],
   "source": [
    "print('Sort the grades :',np.sort(grades))"
   ]
  },
  {
   "cell_type": "markdown",
   "id": "c806ff19",
   "metadata": {},
   "source": [
    "2. Find the top 5 grades using array slicing."
   ]
  },
  {
   "cell_type": "code",
   "execution_count": 3,
   "id": "345ef8a0",
   "metadata": {},
   "outputs": [
    {
     "name": "stdout",
     "output_type": "stream",
     "text": [
      "Top 5 grades : [85 88 90 92 95]\n"
     ]
    }
   ],
   "source": [
    "print('Top 5 grades :',np.sort(grades)[-5:])\n"
   ]
  },
  {
   "cell_type": "markdown",
   "id": "c2eac2ed",
   "metadata": {},
   "source": [
    "3. Determine the number of students who passed the course (grade >= 60)."
   ]
  },
  {
   "cell_type": "code",
   "execution_count": 4,
   "id": "7ae871a7",
   "metadata": {},
   "outputs": [
    {
     "name": "stdout",
     "output_type": "stream",
     "text": [
      "The number of students who passed the course (grade >= 60) : 14\n"
     ]
    }
   ],
   "source": [
    "print('The number of students who passed the course (grade >= 60) :',np.sum(grades>=60))"
   ]
  },
  {
   "cell_type": "markdown",
   "id": "5cf20ed9",
   "metadata": {},
   "source": [
    "4. Identify the students who scored below the mean grade."
   ]
  },
  {
   "cell_type": "code",
   "execution_count": 5,
   "id": "3e7b4db7",
   "metadata": {},
   "outputs": [
    {
     "name": "stdout",
     "output_type": "stream",
     "text": [
      "The students who scored below the mean grad : [72 68 77 60 55 75 65]\n"
     ]
    }
   ],
   "source": [
    "index_below_mean=np.where(grades < np.mean(grades))\n",
    "print('The students who scored below the mean grad :',grades[index_below_mean])"
   ]
  },
  {
   "cell_type": "markdown",
   "id": "73927a09",
   "metadata": {},
   "source": [
    "5. Find the unique grades in the array."
   ]
  },
  {
   "cell_type": "code",
   "execution_count": 6,
   "id": "433ffbf5",
   "metadata": {},
   "outputs": [
    {
     "name": "stdout",
     "output_type": "stream",
     "text": [
      "Unique grades : [55 60 65 68 72 75 77 78 80 82 85 88 90 92 95]\n"
     ]
    }
   ],
   "source": [
    "print('Unique grades :',np.unique(grades))"
   ]
  }
 ],
 "metadata": {
  "kernelspec": {
   "display_name": "Python 3",
   "language": "python",
   "name": "python3"
  },
  "language_info": {
   "codemirror_mode": {
    "name": "ipython",
    "version": 3
   },
   "file_extension": ".py",
   "mimetype": "text/x-python",
   "name": "python",
   "nbconvert_exporter": "python",
   "pygments_lexer": "ipython3",
   "version": "3.13.1"
  }
 },
 "nbformat": 4,
 "nbformat_minor": 5
}
