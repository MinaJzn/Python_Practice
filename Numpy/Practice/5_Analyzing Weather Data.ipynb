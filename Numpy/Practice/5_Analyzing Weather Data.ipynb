{
 "cells": [
  {
   "cell_type": "markdown",
   "id": "6a477412",
   "metadata": {},
   "source": [
    "# Analyzing Weather Data:\n",
    "You are given a NumPy array temperatures that contains the daily temperature recordings (in Celsius) for a city over a period of one week. Another array precipitation contains the corresponding daily precipitation measurements (in millimeters) for the same period."
   ]
  },
  {
   "cell_type": "code",
   "execution_count": 1,
   "id": "0c27c564",
   "metadata": {},
   "outputs": [],
   "source": [
    "import numpy as np\n",
    "\n",
    "temperatures = np.array([25.5, 28.2, 26.8, 29.1, 27.6, 24.9, 26.3])\n",
    "precipitation = np.array([0.0, 2.5, 0.0, 0.0, 10.2, 5.8, 1.2])"
   ]
  },
  {
   "cell_type": "markdown",
   "id": "7b9d03df",
   "metadata": {},
   "source": [
    "1. Convert the temperatures from Celsius to Fahrenheit using the formula: Fahrenheit = (Celsius * 9/5) + 32."
   ]
  },
  {
   "cell_type": "code",
   "execution_count": 2,
   "id": "36fc558b",
   "metadata": {},
   "outputs": [
    {
     "name": "stdout",
     "output_type": "stream",
     "text": [
      "The temperatures from Celsius to Fahrenheit : [77.9  82.76 80.24 84.38 81.68 76.82 79.34]\n"
     ]
    }
   ],
   "source": [
    "fahrenheit=(temperatures*9/5)+32\n",
    "print('The temperatures from Celsius to Fahrenheit :',fahrenheit)"
   ]
  },
  {
   "cell_type": "markdown",
   "id": "7fa46ab0",
   "metadata": {},
   "source": [
    "2. Calculate the average temperature and precipitation for the week."
   ]
  },
  {
   "cell_type": "code",
   "execution_count": 3,
   "id": "e9e49c6d",
   "metadata": {},
   "outputs": [
    {
     "name": "stdout",
     "output_type": "stream",
     "text": [
      "The average temperature : 26.914285714285715\n",
      "The average precipitation : 2.814285714285714\n"
     ]
    }
   ],
   "source": [
    "print('The average temperature :',np.average(temperatures))\n",
    "print('The average precipitation :',np.average(precipitation))"
   ]
  },
  {
   "cell_type": "markdown",
   "id": "689c0004",
   "metadata": {},
   "source": [
    "3. Find the day with the highest temperature and the day with the lowest precipitation."
   ]
  },
  {
   "cell_type": "code",
   "execution_count": 4,
   "id": "836c978a",
   "metadata": {},
   "outputs": [
    {
     "name": "stdout",
     "output_type": "stream",
     "text": [
      "The day with the highest temperature : 3\n",
      "The day with the lowest precipitation 0\n"
     ]
    }
   ],
   "source": [
    "print('The day with the highest temperature :',np.argmax(temperatures))\n",
    "print('The day with the lowest precipitation',np.argmin(precipitation))"
   ]
  },
  {
   "cell_type": "markdown",
   "id": "603668bc",
   "metadata": {},
   "source": [
    "4. Determine the number of rainy days (precipitation > 0) using comparison and logical operations."
   ]
  },
  {
   "cell_type": "code",
   "execution_count": 5,
   "id": "ae114716",
   "metadata": {},
   "outputs": [
    {
     "name": "stdout",
     "output_type": "stream",
     "text": [
      "The number of rainy days : 4\n"
     ]
    }
   ],
   "source": [
    "print('The number of rainy days :',np.sum(precipitation>0))"
   ]
  },
  {
   "cell_type": "markdown",
   "id": "4e72165f",
   "metadata": {},
   "source": [
    "5. Create a new array that contains the temperature values in Kelvin (Kelvin = Celsius + 273.15) for days with precipitation greater than 5 millimeters."
   ]
  },
  {
   "cell_type": "code",
   "execution_count": 6,
   "id": "45ba98d1",
   "metadata": {},
   "outputs": [
    {
     "name": "stdout",
     "output_type": "stream",
     "text": [
      "The temperature values in Kelvin for days with precipitation greater than 5 millimeters : [   nan    nan    nan    nan 300.75 298.05    nan]\n"
     ]
    }
   ],
   "source": [
    "new_arr=np.where(precipitation>5 , temperatures + 273.15, np.nan)\n",
    "print('The temperature values in Kelvin for days with precipitation greater than 5 millimeters :',new_arr)"
   ]
  }
 ],
 "metadata": {
  "kernelspec": {
   "display_name": "Python 3",
   "language": "python",
   "name": "python3"
  },
  "language_info": {
   "codemirror_mode": {
    "name": "ipython",
    "version": 3
   },
   "file_extension": ".py",
   "mimetype": "text/x-python",
   "name": "python",
   "nbconvert_exporter": "python",
   "pygments_lexer": "ipython3",
   "version": "3.13.1"
  }
 },
 "nbformat": 4,
 "nbformat_minor": 5
}
