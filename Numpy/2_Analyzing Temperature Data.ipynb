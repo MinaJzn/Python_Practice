{
 "cells": [
  {
   "cell_type": "markdown",
   "id": "a07efaca",
   "metadata": {},
   "source": [
    "# Analyzing Temperature Data\n",
    "You are given a NumPy array temperatures that contains the daily temperature readings for a city over a period of one week. The array has shape (7, 24), representing 7 days and 24 hourly temperature readings per day."
   ]
  },
  {
   "cell_type": "code",
   "execution_count": 9,
   "id": "7384447a",
   "metadata": {},
   "outputs": [],
   "source": [
    "import numpy as np\n",
    "\n",
    "temperatures = np.array([[12, 14, 15, 16, 17, 18, 19, 20, 21, 22, 23, 24,\n",
    "                          23, 22, 21, 20, 19, 18, 17, 16, 15, 14, 13, 12],\n",
    "                         [13, 15, 16, 17, 18, 19, 20, 21, 22, 23, 24, 25,\n",
    "                          24, 23, 22, 21, 20, 19, 18, 17, 16, 15, 14, 13],\n",
    "                         [14, 16, 17, 18, 19, 20, 21, 22, 23, 24, 25, 26,\n",
    "                          25, 24, 23, 22, 21, 20, 19, 18, 17, 16, 15, 14],\n",
    "                         [15, 17, 18, 19, 20, 21, 22, 23, 24, 25, 26, 27,\n",
    "                          26, 25, 24, 23, 22, 21, 20, 19, 18, 17, 16, 15],\n",
    "                         [16, 18, 19, 20, 21, 22, 23, 24, 25, 26, 27, 28,\n",
    "                          27, 26, 25, 24, 23, 22, 21, 20, 19, 18, 17, 16],\n",
    "                         [17, 19, 20, 21, 22, 23, 24, 25, 26, 27, 28, 29,\n",
    "                          28, 27, 26, 25, 24, 23, 22, 21, 20, 19, 18, 17],\n",
    "                         [18, 20, 21, 22, 23, 24, 25, 26, 27, 28, 29, 30,\n",
    "                          29, 28, 27, 26, 25, 24, 23, 22, 21, 20, 19, 18]])"
   ]
  },
  {
   "cell_type": "markdown",
   "id": "6631e3bd",
   "metadata": {},
   "source": [
    "1. Extract the temperature readings for the first day."
   ]
  },
  {
   "cell_type": "code",
   "execution_count": 10,
   "id": "04a58664",
   "metadata": {},
   "outputs": [
    {
     "name": "stdout",
     "output_type": "stream",
     "text": [
      "The temperatures of first day is :\n",
      " [12 14 15 16 17 18 19 20 21 22 23 24 23 22 21 20 19 18 17 16 15 14 13 12]\n"
     ]
    }
   ],
   "source": [
    "first_day=temperatures[0,:]\n",
    "print('The temperatures of first day is :\\n',first_day)"
   ]
  },
  {
   "cell_type": "markdown",
   "id": "48764509",
   "metadata": {},
   "source": [
    "2. Extract the temperature readings for the last day."
   ]
  },
  {
   "cell_type": "code",
   "execution_count": 11,
   "id": "c97a5b68",
   "metadata": {},
   "outputs": [
    {
     "name": "stdout",
     "output_type": "stream",
     "text": [
      "The temperatures of last day is :\n",
      " [18 20 21 22 23 24 25 26 27 28 29 30 29 28 27 26 25 24 23 22 21 20 19 18]\n"
     ]
    }
   ],
   "source": [
    "last_day=temperatures[-1,:]\n",
    "print('The temperatures of last day is :\\n',last_day)"
   ]
  },
  {
   "cell_type": "markdown",
   "id": "18062bd4",
   "metadata": {},
   "source": [
    "3. Extract the temperature readings for the first 12 hours of each day."
   ]
  },
  {
   "cell_type": "code",
   "execution_count": 12,
   "id": "4038f7c8",
   "metadata": {},
   "outputs": [
    {
     "name": "stdout",
     "output_type": "stream",
     "text": [
      "The first 12 hours of each day is :\n",
      " [[12 14 15 16 17 18 19 20 21 22 23 24]\n",
      " [13 15 16 17 18 19 20 21 22 23 24 25]\n",
      " [14 16 17 18 19 20 21 22 23 24 25 26]\n",
      " [15 17 18 19 20 21 22 23 24 25 26 27]\n",
      " [16 18 19 20 21 22 23 24 25 26 27 28]\n",
      " [17 19 20 21 22 23 24 25 26 27 28 29]\n",
      " [18 20 21 22 23 24 25 26 27 28 29 30]]\n"
     ]
    }
   ],
   "source": [
    "twelve_hours=temperatures[:,:12]\n",
    "print('The first 12 hours of each day is :\\n',twelve_hours)"
   ]
  },
  {
   "cell_type": "markdown",
   "id": "f3dff345",
   "metadata": {},
   "source": [
    "4. Extract the temperature readings for the last 6 hours of each day."
   ]
  },
  {
   "cell_type": "code",
   "execution_count": 13,
   "id": "3817c216",
   "metadata": {},
   "outputs": [
    {
     "name": "stdout",
     "output_type": "stream",
     "text": [
      "The last 6 hours of each day is :\n",
      " [[17 16 15 14 13 12]\n",
      " [18 17 16 15 14 13]\n",
      " [19 18 17 16 15 14]\n",
      " [20 19 18 17 16 15]\n",
      " [21 20 19 18 17 16]\n",
      " [22 21 20 19 18 17]\n",
      " [23 22 21 20 19 18]]\n"
     ]
    }
   ],
   "source": [
    "six_hours=temperatures[:,-6:]\n",
    "print('The last 6 hours of each day is :\\n',six_hours)"
   ]
  },
  {
   "cell_type": "markdown",
   "id": "e07a7f30",
   "metadata": {},
   "source": [
    "5. Extract the temperature readings for every other hour of the fourth day."
   ]
  },
  {
   "cell_type": "code",
   "execution_count": 14,
   "id": "596db437",
   "metadata": {},
   "outputs": [
    {
     "name": "stdout",
     "output_type": "stream",
     "text": [
      "Every other hour of the fourth day is :\n",
      " [15 18 20 22 24 26 26 24 22 20 18 16]\n"
     ]
    }
   ],
   "source": [
    "forth_day=temperatures[3,::2]\n",
    "print('Every other hour of the fourth day is :\\n',forth_day)"
   ]
  },
  {
   "cell_type": "markdown",
   "id": "f7c7da84",
   "metadata": {},
   "source": [
    "6. Modify the temperature readings for the first 3 hours of the fifth day to be 10 degrees higher."
   ]
  },
  {
   "cell_type": "code",
   "execution_count": 15,
   "id": "649aaddf",
   "metadata": {},
   "outputs": [
    {
     "name": "stdout",
     "output_type": "stream",
     "text": [
      "The first 3 hours of the fifth day to be 10 degrees higher is :\n",
      " [26 28 29 20 21 22 23 24 25 26 27 28 27 26 25 24 23 22 21 20 19 18 17 16]\n"
     ]
    }
   ],
   "source": [
    "temperatures[4,:3]+=10\n",
    "print('The first 3 hours of the fifth day to be 10 degrees higher is :\\n',temperatures[4,:])"
   ]
  },
  {
   "cell_type": "markdown",
   "id": "63e5ed24",
   "metadata": {},
   "source": [
    "7. Create a boolean mask to find all temperature readings above 25 degrees."
   ]
  },
  {
   "cell_type": "code",
   "execution_count": 16,
   "id": "2af8dc36",
   "metadata": {},
   "outputs": [
    {
     "name": "stdout",
     "output_type": "stream",
     "text": [
      "Create a boolean mask to find all temperature readings above 25 degrees :\n",
      " [26 26 27 26 26 28 29 26 27 28 27 26 26 27 28 29 28 27 26 26 27 28 29 30\n",
      " 29 28 27 26]\n"
     ]
    }
   ],
   "source": [
    "above_25_degree=temperatures>25\n",
    "print('Create a boolean mask to find all temperature readings above 25 degrees :\\n',temperatures[above_25_degree])"
   ]
  }
 ],
 "metadata": {
  "kernelspec": {
   "display_name": "Python 3",
   "language": "python",
   "name": "python3"
  },
  "language_info": {
   "codemirror_mode": {
    "name": "ipython",
    "version": 3
   },
   "file_extension": ".py",
   "mimetype": "text/x-python",
   "name": "python",
   "nbconvert_exporter": "python",
   "pygments_lexer": "ipython3",
   "version": "3.13.1"
  }
 },
 "nbformat": 4,
 "nbformat_minor": 5
}
