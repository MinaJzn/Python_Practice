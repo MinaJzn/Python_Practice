{
 "cells": [
  {
   "cell_type": "markdown",
   "id": "5a383ac7",
   "metadata": {},
   "source": [
    "# Analyzing Sales Data:\n",
    "You are given two NumPy arrays sales_2021 and sales_2022 that contain the monthly sales data for a company over the past two years. Each array has shape (3, 4), representing sales data for 3 products over 4 quarters."
   ]
  },
  {
   "cell_type": "code",
   "execution_count": 1,
   "id": "d22eb0f3",
   "metadata": {},
   "outputs": [],
   "source": [
    "import numpy as np\n",
    "\n",
    "sales_2021 = np.array([[100, 120, 140, 160],\n",
    "                       [200, 220, 240, 260],\n",
    "                       [300, 320, 340, 360]])\n",
    "\n",
    "sales_2022 = np.array([[110, 130, 150, 170],\n",
    "                       [210, 230, 250, 270],\n",
    "                       [310, 330, 350, 370]])\n"
   ]
  },
  {
   "cell_type": "markdown",
   "id": "3afca889",
   "metadata": {},
   "source": [
    "1. Combine the sales data for both years into a single array using vertical stacking."
   ]
  },
  {
   "cell_type": "code",
   "execution_count": 2,
   "id": "ba9f9c72",
   "metadata": {},
   "outputs": [
    {
     "name": "stdout",
     "output_type": "stream",
     "text": [
      "The sales data for both years into a single array : [[100 120 140 160]\n",
      " [200 220 240 260]\n",
      " [300 320 340 360]\n",
      " [110 130 150 170]\n",
      " [210 230 250 270]\n",
      " [310 330 350 370]]\n"
     ]
    }
   ],
   "source": [
    "combine_sales=np.vstack((sales_2021,sales_2022))\n",
    "print('The sales data for both years into a single array :',combine_sales)"
   ]
  },
  {
   "cell_type": "markdown",
   "id": "e4839f72",
   "metadata": {},
   "source": [
    "2. Reshape the combined sales data into a 1D array."
   ]
  },
  {
   "cell_type": "code",
   "execution_count": 3,
   "id": "d2a13fd7",
   "metadata": {},
   "outputs": [
    {
     "name": "stdout",
     "output_type": "stream",
     "text": [
      "The combined sales data into a 1D array : [100 120 140 160 200 220 240 260 300 320 340 360 110 130 150 170 210 230\n",
      " 250 270 310 330 350 370]\n"
     ]
    }
   ],
   "source": [
    "print('The combined sales data into a 1D array :',combine_sales.reshape(-1))"
   ]
  },
  {
   "cell_type": "markdown",
   "id": "9b970b1e",
   "metadata": {},
   "source": [
    "3. Split the combined sales data into separate arrays for each product using horizontal splitting."
   ]
  },
  {
   "cell_type": "code",
   "execution_count": 4,
   "id": "89fd9e7e",
   "metadata": {},
   "outputs": [
    {
     "name": "stdout",
     "output_type": "stream",
     "text": [
      "product 1 :\n",
      "[[100 120 140 160]\n",
      " [110 130 150 170]]\n",
      "product 2 :\n",
      "[[200 220 240 260]\n",
      " [210 230 250 270]]\n",
      "product 3 :\n",
      "[[300 320 340 360]\n",
      " [310 330 350 370]]\n"
     ]
    }
   ],
   "source": [
    "for i in range(3):\n",
    "    print(f'product {i+1} :\\n{combine_sales[[i, i + 3],:]}')"
   ]
  },
  {
   "cell_type": "markdown",
   "id": "fdc0bccc",
   "metadata": {},
   "source": [
    "4. Create a new array that repeats the sales data for each year twice using tiling."
   ]
  },
  {
   "cell_type": "code",
   "execution_count": 5,
   "id": "a3d2176c",
   "metadata": {},
   "outputs": [
    {
     "name": "stdout",
     "output_type": "stream",
     "text": [
      "Tiled sales data : [[100 120 140 160 100 120 140 160]\n",
      " [200 220 240 260 200 220 240 260]\n",
      " [300 320 340 360 300 320 340 360]\n",
      " [110 130 150 170 110 130 150 170]\n",
      " [210 230 250 270 210 230 250 270]\n",
      " [310 330 350 370 310 330 350 370]]\n"
     ]
    }
   ],
   "source": [
    "each_year=np.tile(combine_sales,(1,2))\n",
    "print('Tiled sales data :',each_year)"
   ]
  },
  {
   "cell_type": "markdown",
   "id": "5340848e",
   "metadata": {},
   "source": [
    "5. Calculate the total sales for each year using flattening and summation."
   ]
  },
  {
   "cell_type": "code",
   "execution_count": 6,
   "id": "3484a845",
   "metadata": {},
   "outputs": [
    {
     "name": "stdout",
     "output_type": "stream",
     "text": [
      "Total sales of 2021 : 2760 \n",
      "Total sales of 2021 : 2880\n"
     ]
    }
   ],
   "source": [
    "total_sales_2021=np.sum(sales_2021.flatten())\n",
    "total_sales_2022=np.sum(sales_2022.flatten())\n",
    "print('Total sales of 2021 :',total_sales_2021,'\\nTotal sales of 2021 :',total_sales_2022)"
   ]
  }
 ],
 "metadata": {
  "kernelspec": {
   "display_name": "Python 3",
   "language": "python",
   "name": "python3"
  },
  "language_info": {
   "codemirror_mode": {
    "name": "ipython",
    "version": 3
   },
   "file_extension": ".py",
   "mimetype": "text/x-python",
   "name": "python",
   "nbconvert_exporter": "python",
   "pygments_lexer": "ipython3",
   "version": "3.13.1"
  }
 },
 "nbformat": 4,
 "nbformat_minor": 5
}
