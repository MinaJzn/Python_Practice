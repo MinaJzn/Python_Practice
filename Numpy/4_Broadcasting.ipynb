{
 "cells": [
  {
   "cell_type": "markdown",
   "id": "29b9fbf2",
   "metadata": {},
   "source": [
    "# Broadcasting:"
   ]
  },
  {
   "cell_type": "markdown",
   "id": "c404515d",
   "metadata": {},
   "source": [
    "1. Create a 2D NumPy array arr1 with shape (3, 4) filled with random integers between 1 and 10 (inclusive)."
   ]
  },
  {
   "cell_type": "code",
   "execution_count": 1,
   "id": "1e8fd024",
   "metadata": {},
   "outputs": [],
   "source": [
    "import numpy as np"
   ]
  },
  {
   "cell_type": "code",
   "execution_count": 2,
   "id": "9f7c5a83",
   "metadata": {},
   "outputs": [
    {
     "name": "stdout",
     "output_type": "stream",
     "text": [
      "Array1 : [[ 6  6  9  4]\n",
      " [ 2 10  9 10]\n",
      " [ 4  9  1  7]]\n"
     ]
    }
   ],
   "source": [
    "arr1=np.array((np.random.randint(1,11,size=(3,4))))\n",
    "print('Array1 :',arr1)"
   ]
  },
  {
   "cell_type": "markdown",
   "id": "e025a120",
   "metadata": {},
   "source": [
    "2. Create a 1D NumPy array arr2 with shape (4,) filled with the values [2, 4, 6, 8]."
   ]
  },
  {
   "cell_type": "code",
   "execution_count": 3,
   "id": "5a94c27c",
   "metadata": {},
   "outputs": [
    {
     "name": "stdout",
     "output_type": "stream",
     "text": [
      "Array2 : [2 4 6 8]\n"
     ]
    }
   ],
   "source": [
    "arr2=np.array([2,4,6,8])\n",
    "print('Array2 :',arr2)"
   ]
  },
  {
   "cell_type": "markdown",
   "id": "d8fa5399",
   "metadata": {},
   "source": [
    "3. Perform element-wise addition between arr1 and arr2 using broadcasting and store the result in a new array result1."
   ]
  },
  {
   "cell_type": "code",
   "execution_count": 4,
   "id": "5b728493",
   "metadata": {},
   "outputs": [
    {
     "name": "stdout",
     "output_type": "stream",
     "text": [
      "Result1 : [[ 8 10 15 12]\n",
      " [ 4 14 15 18]\n",
      " [ 6 13  7 15]]\n"
     ]
    }
   ],
   "source": [
    "result1=arr1+arr2\n",
    "print('Result1 :',result1)"
   ]
  },
  {
   "cell_type": "markdown",
   "id": "659f8f76",
   "metadata": {},
   "source": [
    "4. Create a 2D NumPy array arr3 with shape (3, 1) filled with the values [10, 20, 30]."
   ]
  },
  {
   "cell_type": "code",
   "execution_count": 5,
   "id": "c9d3abea",
   "metadata": {},
   "outputs": [
    {
     "name": "stdout",
     "output_type": "stream",
     "text": [
      "Array3 : [[10]\n",
      " [20]\n",
      " [30]]\n"
     ]
    }
   ],
   "source": [
    "arr3=np.array([[10],[20],[30]])\n",
    "print('Array3 :',arr3)"
   ]
  },
  {
   "cell_type": "markdown",
   "id": "85e7171d",
   "metadata": {},
   "source": [
    "5. Perform element-wise multiplication between arr1 and arr3 using broadcasting and store the result in a new array result2."
   ]
  },
  {
   "cell_type": "code",
   "execution_count": 6,
   "id": "3328b65f",
   "metadata": {},
   "outputs": [
    {
     "name": "stdout",
     "output_type": "stream",
     "text": [
      "Result2 : [[ 60  60  90  40]\n",
      " [ 40 200 180 200]\n",
      " [120 270  30 210]]\n"
     ]
    }
   ],
   "source": [
    "result2=arr1*arr3\n",
    "print('Result2 :',result2)"
   ]
  },
  {
   "cell_type": "markdown",
   "id": "0892fa00",
   "metadata": {},
   "source": [
    "6. Create a scalar value scalar with the value 5."
   ]
  },
  {
   "cell_type": "code",
   "execution_count": 7,
   "id": "2d306c89",
   "metadata": {},
   "outputs": [
    {
     "name": "stdout",
     "output_type": "stream",
     "text": [
      "Scalar : 5\n"
     ]
    }
   ],
   "source": [
    "scalar=5\n",
    "print('Scalar :',scalar)"
   ]
  },
  {
   "cell_type": "markdown",
   "id": "081a4636",
   "metadata": {},
   "source": [
    "7. Subtract scalar from each element of result1 using broadcasting and store the result in a new array result3."
   ]
  },
  {
   "cell_type": "code",
   "execution_count": 8,
   "id": "6d3515f3",
   "metadata": {},
   "outputs": [
    {
     "name": "stdout",
     "output_type": "stream",
     "text": [
      "Result3 : [[ 3  5 10  7]\n",
      " [-1  9 10 13]\n",
      " [ 1  8  2 10]]\n"
     ]
    }
   ],
   "source": [
    "result3=result1-scalar\n",
    "print('Result3 :',result3)"
   ]
  }
 ],
 "metadata": {
  "kernelspec": {
   "display_name": "Python 3",
   "language": "python",
   "name": "python3"
  },
  "language_info": {
   "codemirror_mode": {
    "name": "ipython",
    "version": 3
   },
   "file_extension": ".py",
   "mimetype": "text/x-python",
   "name": "python",
   "nbconvert_exporter": "python",
   "pygments_lexer": "ipython3",
   "version": "3.13.1"
  }
 },
 "nbformat": 4,
 "nbformat_minor": 5
}
